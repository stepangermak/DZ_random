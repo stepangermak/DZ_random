{
 "cells": [
  {
   "cell_type": "markdown",
   "metadata": {},
   "source": [
    "Смоделировать игру против лотерейного автомата типа “777”. Игрок платит 1 руб., после чего выпадает случайное целое число, равномерно распределенное от 0 до 999. При некоторых значениях числа игрок получает выигрыш (см. справа)\n",
    "\n",
    "Выгодна ли игра игроку?\n",
    "\n",
    "Сколько в среднем приобретает\n",
    "или теряет игрок за одну игру?\n",
    "\n",
    "777: 200 руб.\n",
    "999: 100 руб.\n",
    "555: 50 руб.\n",
    "333: 15 руб.\n",
    "111: 10 руб.\n",
    "*77: 5 руб.\n",
    "**7: 3 руб.\n",
    "*00: 2 руб.\n",
    "**0: 1 руб."
   ]
  },
  {
   "cell_type": "code",
   "execution_count": 1,
   "metadata": {},
   "outputs": [],
   "source": [
    "import numpy as np"
   ]
  },
  {
   "cell_type": "code",
   "execution_count": 89,
   "metadata": {},
   "outputs": [],
   "source": [
    "quantity = 1000000 #количество попыток\n",
    "wallet = 0\n",
    "win = 0\n",
    "win_cash = 0\n",
    "lost_cash = 0\n",
    "for i in range(quantity):\n",
    "    bet = 1\n",
    "    random_score = np.random.randint(1, 1000)\n",
    "    if random_score == 777:\n",
    "        wallet += 200 - bet\n",
    "        win += 1\n",
    "        win_cash += 200 - bet\n",
    "    elif random_score == 999:\n",
    "        wallet += 100 - bet\n",
    "        win += 1\n",
    "        win_cash += 100 - bet\n",
    "    elif random_score == 555:\n",
    "        wallet += 50 - bet\n",
    "        win += 1\n",
    "        win_cash += 50 - bet\n",
    "    elif random_score == 333:\n",
    "        wallet += 15 - bet\n",
    "        win += 1\n",
    "        win_cash += 15 - bet\n",
    "    elif random_score == 111:\n",
    "        wallet += 10 - bet\n",
    "        win += 1\n",
    "        win_cash += 10 - bet\n",
    "    elif random_score % 100 == 77:\n",
    "        wallet += 5 - bet\n",
    "        win += 1\n",
    "        win_cash += 5 - bet\n",
    "    elif random_score % 10 == 7:\n",
    "        wallet += 3 - bet\n",
    "        win += 1\n",
    "        win_cash += 3 - bet\n",
    "    elif random_score % 100 == 0:\n",
    "        wallet += 2 - bet\n",
    "        win += 1\n",
    "        win_cash += 2 - bet\n",
    "    elif random_score % 10 == 0:\n",
    "        wallet += 1 - bet\n",
    "        win += 1\n",
    "        win_cash += 1 - bet\n",
    "    else:\n",
    "        wallet -= bet\n",
    "        lost_cash -= bet"
   ]
  },
  {
   "cell_type": "code",
   "execution_count": 90,
   "metadata": {},
   "outputs": [
    {
     "name": "stdout",
     "output_type": "stream",
     "text": [
      "игра не выгодна\n",
      "В среднем игрок проигрывает: -0.188152 руб.\n"
     ]
    }
   ],
   "source": [
    "# Выгодна игра или нет\n",
    "if wallet <= 0:\n",
    "    print('игра не выгодна')\n",
    "else:\n",
    "    print('игра выгодна')\n",
    "    \n",
    "#Сколько в среднем приобретает или теряет игрок за одну игру?\n",
    "avg_prise = (win_cash + lost_cash)/quantity\n",
    "if avg_prise > 0:\n",
    "    print(f'В среднем игрок выигрывает: {avg_prise} руб.')\n",
    "else:\n",
    "    print(f'В среднем игрок проигрывает: {avg_prise} руб.')"
   ]
  },
  {
   "cell_type": "code",
   "execution_count": 91,
   "metadata": {},
   "outputs": [
    {
     "name": "stdout",
     "output_type": "stream",
     "text": [
      "В среднеи игрок проигрывает: -0.18815199999999999\n"
     ]
    }
   ],
   "source": [
    "#не стал удадлять\n",
    "#Расчет среднего случайной величины\n",
    "# x = p1 * x1 + (1 - p1) * x2\n",
    "p1 = win / quantity   #вероятность выигрыша\n",
    "x1 = win_cash / win   #средний выигрыш\n",
    "x2 = lost_cash / (quantity - win) #средний проигрыш\n",
    "x = p1 * x1 + (1 - p1) * x2\n",
    "if x > 0:\n",
    "    print(f'В среднеи игрок выигрывает: {x}')\n",
    "else:\n",
    "    print(f'В среднеи игрок проигрывает: {x}')"
   ]
  },
  {
   "cell_type": "code",
   "execution_count": null,
   "metadata": {},
   "outputs": [],
   "source": []
  },
  {
   "cell_type": "code",
   "execution_count": null,
   "metadata": {},
   "outputs": [],
   "source": []
  }
 ],
 "metadata": {
  "kernelspec": {
   "display_name": "Python 3",
   "language": "python",
   "name": "python3"
  },
  "language_info": {
   "codemirror_mode": {
    "name": "ipython",
    "version": 3
   },
   "file_extension": ".py",
   "mimetype": "text/x-python",
   "name": "python",
   "nbconvert_exporter": "python",
   "pygments_lexer": "ipython3",
   "version": "3.8.3"
  }
 },
 "nbformat": 4,
 "nbformat_minor": 4
}
